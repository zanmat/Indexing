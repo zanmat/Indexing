{
 "cells": [
  {
   "cell_type": "code",
   "execution_count": 1,
   "id": "f1f080f3",
   "metadata": {},
   "outputs": [],
   "source": [
    "from langchain_community.embeddings import OllamaEmbeddings"
   ]
  },
  {
   "cell_type": "code",
   "execution_count": 2,
   "id": "aa8e4c2c",
   "metadata": {},
   "outputs": [],
   "source": [
    "embeddings = OllamaEmbeddings(model=\"mistral:latest\")"
   ]
  },
  {
   "cell_type": "code",
   "execution_count": 3,
   "id": "977b2a9e",
   "metadata": {},
   "outputs": [],
   "source": [
    "text = \"This is a test document.\""
   ]
  },
  {
   "cell_type": "code",
   "execution_count": 5,
   "id": "5e3d2b0d",
   "metadata": {},
   "outputs": [
    {
     "data": {
      "text/plain": [
       "[1.7622203826904297,\n",
       " -0.9595789909362793,\n",
       " -5.865198135375977,\n",
       " -14.586488723754883,\n",
       " 6.941098690032959]"
      ]
     },
     "execution_count": 5,
     "metadata": {},
     "output_type": "execute_result"
    }
   ],
   "source": [
    "doc_result = embeddings.embed_documents([text])\n",
    "doc_result[0][:5]"
   ]
  },
  {
   "cell_type": "code",
   "execution_count": 6,
   "id": "ddc12c0a",
   "metadata": {},
   "outputs": [],
   "source": [
    "from langchain.vectorstores import Chroma\n"
   ]
  },
  {
   "cell_type": "code",
   "execution_count": 7,
   "id": "05eb126e",
   "metadata": {},
   "outputs": [],
   "source": [
    "persist_directory = 'persist_chroma'"
   ]
  }
 ],
 "metadata": {
  "kernelspec": {
   "display_name": "Python 3 (ipykernel)",
   "language": "python",
   "name": "python3"
  },
  "language_info": {
   "codemirror_mode": {
    "name": "ipython",
    "version": 3
   },
   "file_extension": ".py",
   "mimetype": "text/x-python",
   "name": "python",
   "nbconvert_exporter": "python",
   "pygments_lexer": "ipython3",
   "version": "3.11.5"
  }
 },
 "nbformat": 4,
 "nbformat_minor": 5
}
