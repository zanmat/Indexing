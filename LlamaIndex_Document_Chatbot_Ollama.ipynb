{
 "cells": [
  {
   "cell_type": "code",
   "execution_count": null,
   "id": "b7136aae",
   "metadata": {},
   "outputs": [],
   "source": [
    "# Run just to test if ollama is running properly\n",
    "\n",
    "from llama_index.llms.ollama import Ollama\n",
    "\n",
    "llm = Ollama(model=\"mistral:latest\", request_timeout=1000)\n",
    "\n",
    "response = llm.complete(\"What is the history of LEGO?\")\n",
    "\n",
    "print(response)"
   ]
  },
  {
   "cell_type": "code",
   "execution_count": 1,
   "id": "ae0918a1",
   "metadata": {},
   "outputs": [],
   "source": [
    "from pathlib import Path\n",
    "\n",
    "import qdrant_client\n",
    "from llama_index.core import (\n",
    "    VectorStoreIndex,\n",
    "    SimpleDirectoryReader\n",
    ")\n",
    "from llama_index.llms.ollama import Ollama\n",
    "from llama_index.core.storage.storage_context import StorageContext\n",
    "from llama_index.vector_stores.qdrant import QdrantVectorStore\n",
    "from llama_index.core.settings import Settings"
   ]
  },
  {
   "cell_type": "code",
   "execution_count": 2,
   "id": "7565cdcd",
   "metadata": {},
   "outputs": [],
   "source": [
    "# Path to your data folder\n",
    "documents = SimpleDirectoryReader(\"../data2\").load_data()"
   ]
  },
  {
   "cell_type": "code",
   "execution_count": 3,
   "id": "5d24b49d",
   "metadata": {},
   "outputs": [],
   "source": [
    "# Initialize the vector store\n",
    "client = qdrant_client.QdrantClient(\n",
    "    path=\"../qdrant_data\"\n",
    ")\n",
    "vector_store = QdrantVectorStore(client=client, collection_name=\"data2\")\n",
    "storage_context = StorageContext.from_defaults(vector_store=vector_store)"
   ]
  },
  {
   "cell_type": "code",
   "execution_count": 4,
   "id": "a69b8160",
   "metadata": {},
   "outputs": [],
   "source": [
    "# Settings for llm (LlamaIndex 0.10)\n",
    "Settings.llm = Ollama(model=\"mixtral:latest\", embed_model=\"local\", request_timeout=2000, gpu_memory_utilization=0.5)\n",
    "Settings.embed_model = \"local\""
   ]
  },
  {
   "cell_type": "code",
   "execution_count": 5,
   "id": "493d0216",
   "metadata": {},
   "outputs": [],
   "source": [
    "# Indexing\n",
    "index = VectorStoreIndex.from_documents(documents)\n",
    "\n",
    "# If this throws an OutOfMemoryError, adjust gpu_memory_utilization in settings"
   ]
  },
  {
   "cell_type": "code",
   "execution_count": 6,
   "id": "af7eb1a7",
   "metadata": {},
   "outputs": [],
   "source": [
    "# Querying\n",
    "query_engine = index.as_query_engine()"
   ]
  },
  {
   "cell_type": "code",
   "execution_count": 7,
   "id": "faa78ac5",
   "metadata": {},
   "outputs": [],
   "source": [
    "# Sending the query\n",
    "response = query_engine.query(\"The dataset consists of responses to a satisfaction survey. Provide a summary of satisfaction by person assisted by each 'socio implementador u Organización ganadora de Grant Agreement'. Keep it to 50 words per organization.\")"
   ]
  },
  {
   "cell_type": "code",
   "execution_count": 8,
   "id": "053b4790",
   "metadata": {},
   "outputs": [
    {
     "name": "stdout",
     "output_type": "stream",
     "text": [
      " ASOVENTRU (Asociacion de Venezolanos en Trujillo) received high satisfaction ratings, with most respondents reporting excellent assistance and significant improvements in their situations. Some suggested longer support duration for children and more information about service locations.\n",
      "\n",
      "Accion Contra el Hambre also had positive feedback, with beneficiaries citing good to excellent services, significant improvements, and helpful emprendimiento courses. However, some requested more personalized follow-ups, quicker aid disbursement, and longer course durations.\n",
      "\n",
      "Encuentros - Servicio Jesuita de la Solidaridad had one response with moderate improvement reported and a suggestion for better follow-up on processes.\n"
     ]
    }
   ],
   "source": [
    "# Printing the response\n",
    "print(response)"
   ]
  }
 ],
 "metadata": {
  "kernelspec": {
   "display_name": "Python 3 (ipykernel)",
   "language": "python",
   "name": "python3"
  },
  "language_info": {
   "codemirror_mode": {
    "name": "ipython",
    "version": 3
   },
   "file_extension": ".py",
   "mimetype": "text/x-python",
   "name": "python",
   "nbconvert_exporter": "python",
   "pygments_lexer": "ipython3",
   "version": "3.11.5"
  }
 },
 "nbformat": 4,
 "nbformat_minor": 5
}
